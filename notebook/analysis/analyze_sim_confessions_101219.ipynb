{
 "cells": [
  {
   "cell_type": "markdown",
   "metadata": {},
   "source": [
    "# background user 1\n"
   ]
  },
  {
   "cell_type": "markdown",
   "metadata": {},
   "source": [
    "B - create new cell below\n",
    "k - new cell on top "
   ]
  },
  {
   "cell_type": "markdown",
   "metadata": {},
   "source": [
    "objective:\n",
    "to analyse stuff lol"
   ]
  },
  {
   "cell_type": "code",
   "execution_count": 2,
   "metadata": {},
   "outputs": [],
   "source": [
    "import pandas as pd"
   ]
  },
  {
   "cell_type": "code",
   "execution_count": 8,
   "metadata": {},
   "outputs": [
    {
     "name": "stderr",
     "output_type": "stream",
     "text": [
      "'ohoh' is not recognized as an internal or external command,\n",
      "operable program or batch file.\n"
     ]
    }
   ],
   "source": [
    "!ohoh ../../data/raw\n"
   ]
  },
  {
   "cell_type": "code",
   "execution_count": 19,
   "metadata": {},
   "outputs": [],
   "source": [
    "df = pd.read_csv('../../data/raw/df_sim_confessions_250816_091219.csv',\n",
    "                index_col = [0])\n",
    "# .. means go back one directory ...................... dot dot"
   ]
  },
  {
   "cell_type": "code",
   "execution_count": 20,
   "metadata": {},
   "outputs": [
    {
     "data": {
      "text/plain": [
       "(2195, 10)"
      ]
     },
     "execution_count": 20,
     "metadata": {},
     "output_type": "execute_result"
    }
   ],
   "source": [
    "df.shape"
   ]
  },
  {
   "cell_type": "code",
   "execution_count": 22,
   "metadata": {},
   "outputs": [],
   "source": [
    "pd.set_option('display.max_colwidth', -1)"
   ]
  },
  {
   "cell_type": "code",
   "execution_count": 23,
   "metadata": {
    "scrolled": true
   },
   "outputs": [
    {
     "data": {
      "text/html": [
       "<div>\n",
       "<style scoped>\n",
       "    .dataframe tbody tr th:only-of-type {\n",
       "        vertical-align: middle;\n",
       "    }\n",
       "\n",
       "    .dataframe tbody tr th {\n",
       "        vertical-align: top;\n",
       "    }\n",
       "\n",
       "    .dataframe thead th {\n",
       "        text-align: right;\n",
       "    }\n",
       "</style>\n",
       "<table border=\"1\" class=\"dataframe\">\n",
       "  <thead>\n",
       "    <tr style=\"text-align: right;\">\n",
       "      <th></th>\n",
       "      <th>post_id</th>\n",
       "      <th>text</th>\n",
       "      <th>shared_text</th>\n",
       "      <th>time</th>\n",
       "      <th>image</th>\n",
       "      <th>likes</th>\n",
       "      <th>comments</th>\n",
       "      <th>shares</th>\n",
       "      <th>post_url</th>\n",
       "      <th>link</th>\n",
       "    </tr>\n",
       "  </thead>\n",
       "  <tbody>\n",
       "    <tr>\n",
       "      <td>0</td>\n",
       "      <td>2943545019041164</td>\n",
       "      <td>#SIMConfession173963\\n\"Tutorial how to distinguish a local and foreign students\\nLocal students wear basic clothes: basic t-shirt, short, slippers or at least formal sneakers and shoes\\nForeign students wear hypebeast, luxury stuffs, long long pants, expensive jackets and hoodies 24/7 although SG is hot as hell and try to flex about how rich they are anytime possible\\nNo offense but that is a fact, sr ^^\"\\n(09/12/2019 01:46:59)</td>\n",
       "      <td>NaN</td>\n",
       "      <td>2019-12-09 07:38:02</td>\n",
       "      <td>NaN</td>\n",
       "      <td>8</td>\n",
       "      <td>0</td>\n",
       "      <td>0</td>\n",
       "      <td>https://m.facebook.com/story.php?story_fbid=2943545019041164&amp;id=500110393384651</td>\n",
       "      <td>NaN</td>\n",
       "    </tr>\n",
       "  </tbody>\n",
       "</table>\n",
       "</div>"
      ],
      "text/plain": [
       "            post_id  \\\n",
       "0  2943545019041164   \n",
       "\n",
       "                                                                                                                                                                                                                                                                                                                                                                                                                                              text  \\\n",
       "0  #SIMConfession173963\\n\"Tutorial how to distinguish a local and foreign students\\nLocal students wear basic clothes: basic t-shirt, short, slippers or at least formal sneakers and shoes\\nForeign students wear hypebeast, luxury stuffs, long long pants, expensive jackets and hoodies 24/7 although SG is hot as hell and try to flex about how rich they are anytime possible\\nNo offense but that is a fact, sr ^^\"\\n(09/12/2019 01:46:59)   \n",
       "\n",
       "  shared_text                 time image  likes  comments  shares  \\\n",
       "0  NaN         2019-12-09 07:38:02  NaN   8      0         0        \n",
       "\n",
       "                                                                          post_url  \\\n",
       "0  https://m.facebook.com/story.php?story_fbid=2943545019041164&id=500110393384651   \n",
       "\n",
       "  link  \n",
       "0  NaN  "
      ]
     },
     "execution_count": 23,
     "metadata": {},
     "output_type": "execute_result"
    }
   ],
   "source": [
    "df.head(1)"
   ]
  },
  {
   "cell_type": "code",
   "execution_count": null,
   "metadata": {},
   "outputs": [],
   "source": []
  }
 ],
 "metadata": {
  "kernelspec": {
   "display_name": "Python 3",
   "language": "python",
   "name": "python3"
  },
  "language_info": {
   "codemirror_mode": {
    "name": "ipython",
    "version": 3
   },
   "file_extension": ".py",
   "mimetype": "text/x-python",
   "name": "python",
   "nbconvert_exporter": "python",
   "pygments_lexer": "ipython3",
   "version": "3.7.4"
  },
  "toc": {
   "base_numbering": 1,
   "nav_menu": {},
   "number_sections": true,
   "sideBar": true,
   "skip_h1_title": false,
   "title_cell": "Table of Contents",
   "title_sidebar": "Contents",
   "toc_cell": false,
   "toc_position": {},
   "toc_section_display": true,
   "toc_window_display": false
  },
  "varInspector": {
   "cols": {
    "lenName": 16,
    "lenType": 16,
    "lenVar": 40
   },
   "kernels_config": {
    "python": {
     "delete_cmd_postfix": "",
     "delete_cmd_prefix": "del ",
     "library": "var_list.py",
     "varRefreshCmd": "print(var_dic_list())"
    },
    "r": {
     "delete_cmd_postfix": ") ",
     "delete_cmd_prefix": "rm(",
     "library": "var_list.r",
     "varRefreshCmd": "cat(var_dic_list()) "
    }
   },
   "types_to_exclude": [
    "module",
    "function",
    "builtin_function_or_method",
    "instance",
    "_Feature"
   ],
   "window_display": false
  }
 },
 "nbformat": 4,
 "nbformat_minor": 2
}
